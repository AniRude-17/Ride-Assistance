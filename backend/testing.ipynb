{
 "cells": [
  {
   "cell_type": "code",
   "execution_count": 1,
   "id": "5a94adab",
   "metadata": {},
   "outputs": [],
   "source": [
    "import requests;\n",
    "main='http://localhost:5000'"
   ]
  },
  {
   "cell_type": "code",
   "execution_count": 31,
   "id": "6a9a3f18",
   "metadata": {},
   "outputs": [
    {
     "name": "stdout",
     "output_type": "stream",
     "text": [
      "Status Code: 200\n",
      "Response Content: Link Generated your link is : http://localhost:5000/ride/9\n"
     ]
    }
   ],
   "source": [
    "def startSharing(ride_id):\n",
    "    response = requests.post(main+'/ride/share', json={\"ride_id\":ride_id})\n",
    "    print(f\"Status Code: {response.status_code}\")\n",
    "    print(\"Response Content:\", response.text)\n",
    "startSharing(9)"
   ]
  },
  {
   "cell_type": "code",
   "execution_count": 33,
   "id": "2d55a366",
   "metadata": {},
   "outputs": [
    {
     "name": "stdout",
     "output_type": "stream",
     "text": [
      "Status Code: 200\n",
      "Response Content: [\n",
      "  {\n",
      "    \"ride_id\": 9,\n",
      "    \"user_id\": 9,\n",
      "    \"driver_id\": 9,\n",
      "    \"source\": 209,\n",
      "    \"dest\": 309,\n",
      "    \"start_time\": \"14:30:00\",\n",
      "    \"end_time\": null,\n",
      "    \"is_shared\": 1\n",
      "  }\n",
      "]\n"
     ]
    }
   ],
   "source": [
    "def getRideData(ride_id):\n",
    "    response=requests.get(main+'/ride/'+str(ride_id))\n",
    "    print(f\"Status Code: {response.status_code}\")\n",
    "    print(\"Response Content:\", response.text) \n",
    "getRideData(9)"
   ]
  },
  {
   "cell_type": "code",
   "execution_count": 36,
   "id": "b5f43b88",
   "metadata": {
    "scrolled": true
   },
   "outputs": [
    {
     "name": "stdout",
     "output_type": "stream",
     "text": [
      "Status Code: 200\n",
      "Response Content: [\n",
      "  {\n",
      "    \"ride_id\": 7,\n",
      "    \"user_id\": 7,\n",
      "    \"driver_id\": 7,\n",
      "    \"source\": 207,\n",
      "    \"dest\": 307,\n",
      "    \"start_time\": \"13:00:00\",\n",
      "    \"end_time\": null,\n",
      "    \"is_shared\": 1\n",
      "  },\n",
      "  {\n",
      "    \"ride_id\": 9,\n",
      "    \"user_id\": 9,\n",
      "    \"driver_id\": 9,\n",
      "    \"source\": 209,\n",
      "    \"dest\": 309,\n",
      "    \"start_time\": \"14:30:00\",\n",
      "    \"end_time\": null,\n",
      "    \"is_shared\": 1\n",
      "  }\n",
      "]\n"
     ]
    }
   ],
   "source": [
    "def adminRides():\n",
    "    data={\"admin\":1}\n",
    "    response=requests.post(main+'/ride/admin',json=data)\n",
    "    print(f\"Status Code: {response.status_code}\")\n",
    "    print(\"Response Content:\", response.text)\n",
    "    \n",
    "adminRides()"
   ]
  },
  {
   "cell_type": "code",
   "execution_count": 37,
   "id": "0cf4a8d6",
   "metadata": {},
   "outputs": [],
   "source": [
    "def endRide(ride_id):\n",
    "    response=requests.get(main+'/ride/end/'+str(ride_id))\n",
    "    print(f\"Status Code: {response.status_code}\")\n",
    "    print(\"Response Content:\", response.text) "
   ]
  },
  {
   "cell_type": "code",
   "execution_count": 38,
   "id": "14cb2a72",
   "metadata": {},
   "outputs": [
    {
     "name": "stdout",
     "output_type": "stream",
     "text": [
      "Status Code: 200\n",
      "Response Content: Ride Ended\n"
     ]
    }
   ],
   "source": [
    "endRide(6)"
   ]
  },
  {
   "cell_type": "code",
   "execution_count": 40,
   "id": "f1c9af3e",
   "metadata": {},
   "outputs": [
    {
     "name": "stdout",
     "output_type": "stream",
     "text": [
      "Status Code: 200\n",
      "Response Content: [\n",
      "  {\n",
      "    \"ride_id\": 6,\n",
      "    \"user_id\": 6,\n",
      "    \"driver_id\": 6,\n",
      "    \"source\": 206,\n",
      "    \"dest\": 306,\n",
      "    \"start_time\": \"12:15:00\",\n",
      "    \"end_time\": \"02:02:47\",\n",
      "    \"is_shared\": 1\n",
      "  }\n",
      "]\n"
     ]
    }
   ],
   "source": [
    "def getUserHistory(user_id):\n",
    "    response=requests.get(main+'/ride/user/'+str(user_id))\n",
    "    print(f\"Status Code: {response.status_code}\")\n",
    "    print(\"Response Content:\", response.text) \n",
    "getUserHistory(6)"
   ]
  },
  {
   "cell_type": "code",
   "execution_count": 41,
   "id": "39a5c5fe",
   "metadata": {},
   "outputs": [],
   "source": [
    "def feedbackSubmit(ride_id,msg):\n",
    "    data={\"ride_id\":ride_id,\"feedback\":msg}\n",
    "    response=requests.post(main+'/feedback/',json=data)\n",
    "    print(f\"Status Code: {response.status_code}\")\n",
    "    print(\"Response Content:\", response.text)"
   ]
  },
  {
   "cell_type": "code",
   "execution_count": 42,
   "id": "091a13b4",
   "metadata": {},
   "outputs": [
    {
     "name": "stdout",
     "output_type": "stream",
     "text": [
      "Status Code: 200\n",
      "Response Content: Feedback Submitted\n"
     ]
    }
   ],
   "source": [
    "feedbackSubmit(4,\"MAYBE, I WAS LATE\")"
   ]
  },
  {
   "cell_type": "code",
   "execution_count": 44,
   "id": "f995e0ca",
   "metadata": {},
   "outputs": [
    {
     "name": "stdout",
     "output_type": "stream",
     "text": [
      "Status Code: 200\n",
      "Response Content: [\n",
      "  {\n",
      "    \"feedback_id\": 1,\n",
      "    \"ride_id\": 4,\n",
      "    \"feedback\": \"hahaha good ride\"\n",
      "  },\n",
      "  {\n",
      "    \"feedback_id\": 2,\n",
      "    \"ride_id\": 4,\n",
      "    \"feedback\": \"SDg\"\n",
      "  },\n",
      "  {\n",
      "    \"feedback_id\": 3,\n",
      "    \"ride_id\": 4,\n",
      "    \"feedback\": \"MAYBE, I WAS LATE\"\n",
      "  }\n",
      "]\n"
     ]
    }
   ],
   "source": [
    "def adminFeedback():\n",
    "    data={\"admin\":1}\n",
    "    response=requests.post(main+'/feedback/admin',json=data)\n",
    "    print(f\"Status Code: {response.status_code}\")\n",
    "    print(\"Response Content:\", response.text)\n",
    "adminFeedback()"
   ]
  },
  {
   "cell_type": "code",
   "execution_count": 21,
   "id": "de3f7209",
   "metadata": {},
   "outputs": [
    {
     "name": "stdout",
     "output_type": "stream",
     "text": [
      "Status Code: 200\n",
      "Response Content: [\n",
      "  {\n",
      "    \"feedback_id\": 1,\n",
      "    \"ride_id\": 4,\n",
      "    \"feedback\": \"hahaha good ride\"\n",
      "  },\n",
      "  {\n",
      "    \"feedback_id\": 2,\n",
      "    \"ride_id\": 4,\n",
      "    \"feedback\": \"SDg\"\n",
      "  }\n",
      "]\n"
     ]
    }
   ],
   "source": [
    "adminFeedback()"
   ]
  },
  {
   "cell_type": "code",
   "execution_count": null,
   "id": "c61096b0",
   "metadata": {},
   "outputs": [],
   "source": []
  }
 ],
 "metadata": {
  "kernelspec": {
   "display_name": "Python 3",
   "language": "python",
   "name": "python3"
  },
  "language_info": {
   "codemirror_mode": {
    "name": "ipython",
    "version": 3
   },
   "file_extension": ".py",
   "mimetype": "text/x-python",
   "name": "python",
   "nbconvert_exporter": "python",
   "pygments_lexer": "ipython3",
   "version": "3.9.5"
  }
 },
 "nbformat": 4,
 "nbformat_minor": 5
}
