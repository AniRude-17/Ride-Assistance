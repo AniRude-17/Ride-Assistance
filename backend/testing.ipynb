{
 "cells": [
  {
   "cell_type": "code",
   "execution_count": 1,
   "id": "c01a97f1",
   "metadata": {},
   "outputs": [],
   "source": [
    "import requests;\n",
    "main='http://localhost:5000'"
   ]
  },
  {
   "cell_type": "code",
   "execution_count": 2,
   "id": "276f9837",
   "metadata": {},
   "outputs": [
    {
     "name": "stdout",
     "output_type": "stream",
     "text": [
      "Status Code: 200\n",
      "Response Content: Link Generated your link is : http://localhost:5000/ride/6\n"
     ]
    }
   ],
   "source": [
    "def startSharing(ride_id):\n",
    "    response = requests.post(main+'/ride/share', json={\"ride_id\":ride_id})\n",
    "    print(f\"Status Code: {response.status_code}\")\n",
    "    print(\"Response Content:\", response.text)\n",
    "startSharing(6)"
   ]
  },
  {
   "cell_type": "code",
   "execution_count": 9,
   "id": "25b87cc7",
   "metadata": {},
   "outputs": [
    {
     "name": "stdout",
     "output_type": "stream",
     "text": [
      "Status Code: 200\n",
      "Response Content: [\n",
      "  {\n",
      "    \"ride_id\": 1,\n",
      "    \"user_id\": 1,\n",
      "    \"driver_id\": 1,\n",
      "    \"source\": 201,\n",
      "    \"dest\": 301,\n",
      "    \"start_time\": \"08:30:00\",\n",
      "    \"end_time\": null,\n",
      "    \"is_shared\": 0\n",
      "  }\n",
      "]\n"
     ]
    }
   ],
   "source": [
    "def getRideData(ride_id):\n",
    "    response=requests.get(main+'/ride/'+str(ride_id))\n",
    "    print(f\"Status Code: {response.status_code}\")\n",
    "    print(\"Response Content:\", response.text) \n",
    "getRideData(1)"
   ]
  },
  {
   "cell_type": "code",
   "execution_count": 13,
   "id": "17578b1f",
   "metadata": {
    "scrolled": true
   },
   "outputs": [
    {
     "name": "stdout",
     "output_type": "stream",
     "text": [
      "Status Code: 200\n",
      "Response Content: [\n",
      "  {\n",
      "    \"ride_id\": 6,\n",
      "    \"user_id\": 6,\n",
      "    \"driver_id\": 6,\n",
      "    \"source\": 206,\n",
      "    \"dest\": 306,\n",
      "    \"start_time\": \"12:15:00\",\n",
      "    \"end_time\": \"02:02:47\",\n",
      "    \"is_shared\": 1\n",
      "  },\n",
      "  {\n",
      "    \"ride_id\": 6,\n",
      "    \"user_id\": 6,\n",
      "    \"driver_id\": 6,\n",
      "    \"source\": 206,\n",
      "    \"dest\": 306,\n",
      "    \"start_time\": \"12:15:00\",\n",
      "    \"end_time\": \"02:02:47\",\n",
      "    \"is_shared\": 1\n",
      "  },\n",
      "  {\n",
      "    \"ride_id\": 6,\n",
      "    \"user_id\": 6,\n",
      "    \"driver_id\": 6,\n",
      "    \"source\": 206,\n",
      "    \"dest\": 306,\n",
      "    \"start_time\": \"12:15:00\",\n",
      "    \"end_time\": \"02:02:47\",\n",
      "    \"is_shared\": 1\n",
      "  },\n",
      "  {\n",
      "    \"ride_id\": 6,\n",
      "    \"user_id\": 6,\n",
      "    \"driver_id\": 6,\n",
      "    \"source\": 206,\n",
      "    \"dest\": 306,\n",
      "    \"start_time\": \"12:15:00\",\n",
      "    \"end_time\": \"02:02:47\",\n",
      "    \"is_shared\": 1\n",
      "  },\n",
      "  {\n",
      "    \"ride_id\": 6,\n",
      "    \"user_id\": 6,\n",
      "    \"driver_id\": 6,\n",
      "    \"source\": 206,\n",
      "    \"dest\": 306,\n",
      "    \"start_time\": \"12:15:00\",\n",
      "    \"end_time\": \"02:02:47\",\n",
      "    \"is_shared\": 1\n",
      "  },\n",
      "  {\n",
      "    \"ride_id\": 6,\n",
      "    \"user_id\": 6,\n",
      "    \"driver_id\": 6,\n",
      "    \"source\": 206,\n",
      "    \"dest\": 306,\n",
      "    \"start_time\": \"12:15:00\",\n",
      "    \"end_time\": \"02:02:47\",\n",
      "    \"is_shared\": 1\n",
      "  },\n",
      "  {\n",
      "    \"ride_id\": 6,\n",
      "    \"user_id\": 6,\n",
      "    \"driver_id\": 6,\n",
      "    \"source\": 206,\n",
      "    \"dest\": 306,\n",
      "    \"start_time\": \"12:15:00\",\n",
      "    \"end_time\": \"02:02:47\",\n",
      "    \"is_shared\": 1\n",
      "  }\n",
      "]\n"
     ]
    }
   ],
   "source": [
    "def adminRides():\n",
    "    data={\"admin\":1}\n",
    "    response=requests.post(main+'/ride/admin',json=data)\n",
    "    print(f\"Status Code: {response.status_code}\")\n",
    "    print(\"Response Content:\", response.text)\n",
    "    \n",
    "adminRides()"
   ]
  },
  {
   "cell_type": "code",
   "execution_count": null,
   "id": "8a097f7b",
   "metadata": {},
   "outputs": [],
   "source": [
    "def endRide(ride_id):\n",
    "    response=requests.get(main+'/ride/end/'+str(ride_id))\n",
    "    print(f\"Status Code: {response.status_code}\")\n",
    "    print(\"Response Content:\", response.text) "
   ]
  },
  {
   "cell_type": "code",
   "execution_count": null,
   "id": "268ba800",
   "metadata": {},
   "outputs": [],
   "source": [
    "endRide(4)"
   ]
  },
  {
   "cell_type": "code",
   "execution_count": 14,
   "id": "e44003d1",
   "metadata": {},
   "outputs": [
    {
     "name": "stdout",
     "output_type": "stream",
     "text": [
      "Status Code: 200\n",
      "Response Content: []\n"
     ]
    }
   ],
   "source": [
    "def getUserHistory(user_id):\n",
    "    response=requests.get(main+'/ride/user/'+str(user_id))\n",
    "    print(f\"Status Code: {response.status_code}\")\n",
    "    print(\"Response Content:\", response.text) \n",
    "getUserHistory(7)"
   ]
  },
  {
   "cell_type": "code",
   "execution_count": 18,
   "id": "9cc6bb36",
   "metadata": {},
   "outputs": [],
   "source": [
    "def feedbackSubmit(ride_id,msg):\n",
    "    data={\"ride_id\":ride_id,\"feedback\":msg}\n",
    "    response=requests.post(main+'/feedback/',json=data)\n",
    "    print(f\"Status Code: {response.status_code}\")\n",
    "    print(\"Response Content:\", response.text)"
   ]
  },
  {
   "cell_type": "code",
   "execution_count": 19,
   "id": "807e6b14",
   "metadata": {},
   "outputs": [
    {
     "name": "stdout",
     "output_type": "stream",
     "text": [
      "Status Code: 200\n",
      "Response Content: Feedback Submitted\n"
     ]
    }
   ],
   "source": [
    "feedbackSubmit(4,\"SDg\")"
   ]
  },
  {
   "cell_type": "code",
   "execution_count": 20,
   "id": "58ac263d",
   "metadata": {},
   "outputs": [],
   "source": [
    "def adminFeedback():\n",
    "    data={\"admin\":1}\n",
    "    response=requests.post(main+'/feedback/admin',json=data)\n",
    "    print(f\"Status Code: {response.status_code}\")\n",
    "    print(\"Response Content:\", response.text)"
   ]
  },
  {
   "cell_type": "code",
   "execution_count": 21,
   "id": "9791bc8b",
   "metadata": {},
   "outputs": [
    {
     "name": "stdout",
     "output_type": "stream",
     "text": [
      "Status Code: 200\n",
      "Response Content: [\n",
      "  {\n",
      "    \"feedback_id\": 1,\n",
      "    \"ride_id\": 4,\n",
      "    \"feedback\": \"hahaha good ride\"\n",
      "  },\n",
      "  {\n",
      "    \"feedback_id\": 2,\n",
      "    \"ride_id\": 4,\n",
      "    \"feedback\": \"SDg\"\n",
      "  }\n",
      "]\n"
     ]
    }
   ],
   "source": [
    "adminFeedback()"
   ]
  },
  {
   "cell_type": "code",
   "execution_count": null,
   "id": "103315d0",
   "metadata": {},
   "outputs": [],
   "source": []
  }
 ],
 "metadata": {
  "kernelspec": {
   "display_name": "Python 3",
   "language": "python",
   "name": "python3"
  },
  "language_info": {
   "codemirror_mode": {
    "name": "ipython",
    "version": 3
   },
   "file_extension": ".py",
   "mimetype": "text/x-python",
   "name": "python",
   "nbconvert_exporter": "python",
   "pygments_lexer": "ipython3",
   "version": "3.9.5"
  }
 },
 "nbformat": 4,
 "nbformat_minor": 5
}
